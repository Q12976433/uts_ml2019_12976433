{
  "nbformat": 4,
  "nbformat_minor": 0,
  "metadata": {
    "colab": {
      "name": "ML2019_ASS1.ipynb",
      "version": "0.3.2",
      "provenance": [],
      "include_colab_link": true
    },
    "kernelspec": {
      "name": "python3",
      "display_name": "Python 3"
    }
  },
  "cells": [
    {
      "cell_type": "markdown",
      "metadata": {
        "id": "view-in-github",
        "colab_type": "text"
      },
      "source": [
        "<a href=\"https://colab.research.google.com/github/Q12976433/uts_ml2019_12976433/blob/master/ML2019_ASS1.ipynb\" target=\"_parent\"><img src=\"https://colab.research.google.com/assets/colab-badge.svg\" alt=\"Open In Colab\"/></a>"
      ]
    },
    {
      "cell_type": "code",
      "metadata": {
        "id": "ztO6puaV3Fu0",
        "colab_type": "code",
        "colab": {}
      },
      "source": [
        "The understanding of “eigenfaces vs fisherfaces: recognition using class specific linear projection”\n",
        "\n",
        "Shuting Xu\n",
        "12976433\n",
        " \n",
        "Introduction\n",
        "With the advancement of machine learning, the face recognition technique has been so popular and smart, for example, an increasing number of smart mobile phones are replacing the previous fingerprint authentication with human face authentication to unlock users’ phones. The identification technology is very crucial in surveillance devices, compared to other authentication methods like entering passwords, fingerprint authentication, face recognition tends to be more effective.\n",
        "During the last decade, there has been many algorithms to achieve the face recognition and remain technical problems. The research \"Eigenfaces vs Fisherfaces: Recognition Using Class Specific Linear Projection\" from  Peter N. Belhumeur, Joao P. Hespanha, and David J. Kriegman has illustrated several classification methods and based on convincing dataset to perform experiments under different illumination condition, facial expression and eye wear. And aims to improve and address the technical problems.\n",
        "This paper is a review of the research and finds out the efforts of different algorithms and provides own opinions for the practical applications of face recognition.\n",
        "\n",
        "\n",
        "\n",
        "\n",
        "Content\n",
        "The problem mentioned in “eigenfaces vs fisher faces: recognition using class specific linear projection” is about face recognition: there are two groups of human faces images, The person’ identity in each image has been labeled on one group , which is training set; while the other group is unlabeled and certain method is applied to recognize each person in testing set. The author listed four main pattern classification techniques to identify the face images under various illumination environment and pose.\n",
        "Although many algorithms and methods are made for face recognition, some of them are not very reliable since minor change in lighting, viewing direction, facial expression and pose. It is noted that the lighting has many variabilities, such as intensity, projection direction and the number of light sources.\n",
        "An example of illumination is shown in fig1, the same person with same facial expression looks extremely different under the different lighting source from fixed viewing point. The face was brighter in left image where the light source was facing the person, while in right side, more shadows appeared on the person ‘face because the light source is above the person’ s head, so we can notice the light covered his forehead and the bridge of nose. This experiment shows the difficulty to analyze the variations of lighting in face recognition.\n",
        "\n",
        "   \n",
        "fig1\n",
        "\n",
        "\n",
        "\n",
        "\n",
        "INNOVATION\n",
        "There have been several algorithms created earlier for face recognitions. But what they were designed cannot solve some challenges of recognition conditions. The novelty of this article aiming at face recognition takes not only the variations of light source into consideration but also human variations like facial expression, eyewear. For the observation of images, the experiments are shown as figure 2, and the dominant light source is spherical and divided into 5 subsets with 15°increments between them. Then the author analyzed part of those subsets and exploited the error rates of different classification methods.\n",
        "\n",
        "On the other hand, some experiments show that the influence of human variations would not be ignored. Various facial expressions need various structures of facial organs, like the movement of eyes, nose, mouth and chin. In this research, the argument “glasses recognition” for face recognition introduced PCA (principal component analysis) which is also applied to analyze the recognition result (Belhumeur,1997).\n",
        "\n",
        "And author of this paper provides four innovative algorithms for face recognition. The four classification methods have their own features and algorithm. Besides, the essay mentioned that Eigenface method and correlation are used for variation in lighting direction. Correlation recognizes a testing image by labeling it of the relative neighbor points of the training set and measured the distance between the points. The next step is to normalize the images, which equals to picking the images in learning set that matches the images in testing set.so the outcome would ignore the light source and the camera’s effect. While Eigenfaces technique handled with face recognition in computation by reducing dimension (M. Turk and A. Pentland,1991). PCA uses this function to process target samples (Zhang et al. 2014).\n",
        "\n",
        "It is noted that linear subspace is different to other methods, it removed shadows from the human face and this method is known as photometric stereo which contains the linearly subspace illumination. In this case, this technique could process the observation images and mix several original images into a 3D linear space image.\n",
        "The three methods mentioned above are considered under the specific observation environment and vulnerable to the lighting condition nevertheless, Fisher face is a method using relative geometry knowledges to perform the linear separability with dimension reduction.\n",
        "\n",
        " \n",
        "fig2\n",
        " \n",
        "\n",
        "\n",
        " \n",
        "\n",
        "\n",
        "Technical quality\n",
        "This research shows the limitation to the readers who do not have specific enough knowledges about algorithms or face recognition techniques. A huge number of reading and references are required as the basic understanding to this topic. \n",
        "\n",
        "Due to the full utilization of the databases for observation as well as the specific illumination of the techniques, this research has excellent technical quality and performed several relatively required experiments with learning and testing sets of face recognition under different conditions. \n",
        "\n",
        "Abidin,Z said the main purpose of machine learning is prediction with appropriate learning set and testing set. The four classification techniques target at various observation condition. Although correlation tends to be the easiest one which labels the closets spot in training set with measured distances, the lighting should be continuous for clustering otherwise the accuracy rate cannot be guaranteed. As for the eigenfaces, the paper did not attempt to improve the correlation. Both exploited the changes in lighting condition. Besides, author mentioned the noise of shadow in linear subspace and this method can reach the zero-error rate without interferences of shadowing. Compared with those three methods, the experiments of fisher face combining PCA were excepted to optimize the class-scatter among each class (Anggo & Arapu 2018).\n",
        "\n",
        "The author supposed that can relay the lighting directions for face recognition in testing set, and the performance was superior to learning set. Part from the variations in lighting, experiments were performed to test other factors, including facial expression, glasses. In my opinion, the conclusion drawn from these experiments is reliable, for instance, the datasets of “variation in lighting” are from Harvard Robotics Laboratory and a huge number of photos are used for observation and analysis which are very convincing.\n",
        "\n",
        "\n",
        "Application and X-factor\n",
        "This research illustrated the application domain in face recognition and AI which enjoys great popularity in modern security devices and surveillance systems, including unlocking mobile phones or doors, identification authentication in airport. It is undoubted that those algorithms of machine learning are relatively complicated, and lots of valid data are required for the upgrade in application.\n",
        "  \n",
        "This application remains various problems because of the technical constraints. In my perspective, applying various angles can make improvement in accuracy of face recognition. The author also mentioned no research concerning the performance of classification methods on a bigger dataset. Perhaps exploiting the relative performance of algorithms can help improving face recognition as well as triggering further discussion of data analysis. \n",
        "\n",
        "The author introduced fisher face method which is specific, the research should have explained how other classification methods figured out the issues in processing face recognition, even the author has discussed some shortcomings of fisher face methods.\n",
        "The images samples of individuals amount to 330 valid images of 5 individuals appeared not enough, a larger number of samples can be in favor of training set.\n",
        "\n",
        "Besides, the author listed several mathematical formulas like FLD (fisher’ s linear discriminant) and PCA (principal component analysis) (Belhumeur,1997) with many undefined signals. Readers who do not have a deep understanding to those knowledges are limited to make sense of these formulas. The suggestion is to provide further explicit explanations to these elusive formulas.\n",
        "\n",
        "FLD:\n",
        " \n",
        "\n",
        "PCA: y =WTx k=1,2,K,N  \n",
        " \n",
        " \n",
        "\n",
        "\n",
        "Presentation \n",
        "This article was beginning with a short abstract illustrating the main target and the performed research. Then the introduction session discussed the face recognition technique and raised a problem of it. Next stage was to compare four given classification methods and analyzed the results of relative experiments which provided a brief representation of the outcomes that used linear graphs and got the error rate of those methods.\n",
        "\n",
        "The advantages of this paper involved that the conclusion of this article is explicit, such as “fisher face method appears to be the best ……” and the principal components has close relations with eigenface method. Another advantage is that the author took glasses recognition into consideration, since wearing glasses is an inevitable factor in face recognition and it also has impact on the error rate of prediction.\n",
        "\n",
        "But there remain some shortcomings can be eliminated; the details of formulas were not discussed in the article. The author should have avoided this problem and demonstrated those techniques to readers based on specific formulas.    \n",
        "\n",
        "\n",
        "\n",
        "\n",
        "\n",
        "\n",
        "\n",
        "\n",
        "\n",
        "\n",
        "\n",
        "\n",
        "Reference\n",
        "Abidin, Z., & Harjoko, A. (2012). A neural network based facial expression recognition using fisherface. International Journal of Computer Applications, 59(3).\n",
        "M. Turk and A. Pentland,1991, “Eigenfaces for Recognition,” J. Cogni- tive Neuroscience, vol. 3, no. 1.\n",
        "Anggo, M., Arapu, L. 2018, 'Face Recognition Using Fisherface Method', Journal of Physics: Conference Series, vol. 1028, no. 1, pp. 1-9\n",
        "\n",
        "Belhumeur, P., Hespanha, J., Kriegman, D. 1997, 'Eigenfaces vs. Fisherfaces: Recognition Using Class Specific Linear Projection', IEEE Transactions on Pattern Analysis and Machine Intelligence, vol. 19, no. 7, pp. 711-720\n",
        "\n",
        "Zhang, H., Liu, W., Dong, L., Wang, Y. 2014, 'Sparse eigenfaces analysis for recognition', International Conference on Signal Processing Proceedings, vol. 14, no. 1, pp. 887-890\n",
        "\n",
        "\n",
        "\n",
        "\n",
        "\n",
        "\n",
        "\n",
        "\n"
      ],
      "execution_count": 0,
      "outputs": []
    },
    {
      "cell_type": "markdown",
      "metadata": {
        "id": "1KZAy_149HNR",
        "colab_type": "text"
      },
      "source": [
        "![fig1](https://raw.githubusercontent.com/Q12976433/uts_ml2019_12976433/master/fig1.png)"
      ]
    },
    {
      "cell_type": "markdown",
      "metadata": {
        "id": "LE5HvXjc6Flq",
        "colab_type": "text"
      },
      "source": [
        "![fig2](https://raw.githubusercontent.com/Q12976433/uts_ml2019_12976433/master/111.png)"
      ]
    },
    {
      "cell_type": "markdown",
      "metadata": {
        "id": "8T8fnBa48QPw",
        "colab_type": "text"
      },
      "source": [
        ""
      ]
    }
  ]
}